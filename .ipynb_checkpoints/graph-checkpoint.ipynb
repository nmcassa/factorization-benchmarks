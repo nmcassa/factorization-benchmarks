{
 "cells": [
  {
   "cell_type": "code",
   "execution_count": 1,
   "id": "9fdea52b",
   "metadata": {},
   "outputs": [],
   "source": [
    "import pandas as pd\n",
    "import matplotlib.pyplot as plt"
   ]
  },
  {
   "cell_type": "code",
   "execution_count": 2,
   "id": "5913ca38",
   "metadata": {},
   "outputs": [
    {
     "data": {
      "text/html": [
       "<div>\n",
       "<style scoped>\n",
       "    .dataframe tbody tr th:only-of-type {\n",
       "        vertical-align: middle;\n",
       "    }\n",
       "\n",
       "    .dataframe tbody tr th {\n",
       "        vertical-align: top;\n",
       "    }\n",
       "\n",
       "    .dataframe thead th {\n",
       "        text-align: right;\n",
       "    }\n",
       "</style>\n",
       "<table border=\"1\" class=\"dataframe\">\n",
       "  <thead>\n",
       "    <tr style=\"text-align: right;\">\n",
       "      <th></th>\n",
       "      <th>algo</th>\n",
       "      <th>64</th>\n",
       "      <th>128</th>\n",
       "      <th>256</th>\n",
       "      <th>512</th>\n",
       "      <th>1024</th>\n",
       "      <th>2048</th>\n",
       "    </tr>\n",
       "  </thead>\n",
       "  <tbody>\n",
       "    <tr>\n",
       "      <th>0</th>\n",
       "      <td>alspp32</td>\n",
       "      <td>930</td>\n",
       "      <td>1870</td>\n",
       "      <td>3836</td>\n",
       "      <td>8398</td>\n",
       "      <td>19601</td>\n",
       "      <td>52227</td>\n",
       "    </tr>\n",
       "    <tr>\n",
       "      <th>1</th>\n",
       "      <td>alspp64</td>\n",
       "      <td>656</td>\n",
       "      <td>1222</td>\n",
       "      <td>2396</td>\n",
       "      <td>5070</td>\n",
       "      <td>13247</td>\n",
       "      <td>36238</td>\n",
       "    </tr>\n",
       "    <tr>\n",
       "      <th>2</th>\n",
       "      <td>alspp128</td>\n",
       "      <td>621</td>\n",
       "      <td>936</td>\n",
       "      <td>1863</td>\n",
       "      <td>4105</td>\n",
       "      <td>10444</td>\n",
       "      <td>29444</td>\n",
       "    </tr>\n",
       "    <tr>\n",
       "      <th>3</th>\n",
       "      <td>als</td>\n",
       "      <td>454</td>\n",
       "      <td>604</td>\n",
       "      <td>1205</td>\n",
       "      <td>15907</td>\n",
       "      <td>82010</td>\n",
       "      <td>369467</td>\n",
       "    </tr>\n",
       "    <tr>\n",
       "      <th>4</th>\n",
       "      <td>icd</td>\n",
       "      <td>23724</td>\n",
       "      <td>48203</td>\n",
       "      <td>99060</td>\n",
       "      <td>202978</td>\n",
       "      <td>408716</td>\n",
       "      <td>856436</td>\n",
       "    </tr>\n",
       "  </tbody>\n",
       "</table>\n",
       "</div>"
      ],
      "text/plain": [
       "       algo     64    128    256     512    1024    2048\n",
       "0   alspp32    930   1870   3836    8398   19601   52227\n",
       "1   alspp64    656   1222   2396    5070   13247   36238\n",
       "2  alspp128    621    936   1863    4105   10444   29444\n",
       "3       als    454    604   1205   15907   82010  369467\n",
       "4       icd  23724  48203  99060  202978  408716  856436"
      ]
     },
     "execution_count": 2,
     "metadata": {},
     "output_type": "execute_result"
    }
   ],
   "source": [
    "ml_data = pd.read_csv('ML.csv')\n",
    "ml_data.head()"
   ]
  },
  {
   "cell_type": "code",
   "execution_count": 16,
   "id": "41d15292",
   "metadata": {},
   "outputs": [
    {
     "data": {
      "text/plain": [
       "930"
      ]
     },
     "execution_count": 16,
     "metadata": {},
     "output_type": "execute_result"
    }
   ],
   "source": [
    "ml_data.iloc[0,1]"
   ]
  },
  {
   "cell_type": "code",
   "execution_count": null,
   "id": "dd269c03",
   "metadata": {},
   "outputs": [],
   "source": []
  }
 ],
 "metadata": {
  "kernelspec": {
   "display_name": "Python 3 (ipykernel)",
   "language": "python",
   "name": "python3"
  },
  "language_info": {
   "codemirror_mode": {
    "name": "ipython",
    "version": 3
   },
   "file_extension": ".py",
   "mimetype": "text/x-python",
   "name": "python",
   "nbconvert_exporter": "python",
   "pygments_lexer": "ipython3",
   "version": "3.9.13"
  }
 },
 "nbformat": 4,
 "nbformat_minor": 5
}
